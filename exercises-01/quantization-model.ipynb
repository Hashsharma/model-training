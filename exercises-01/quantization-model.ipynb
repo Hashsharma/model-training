{
 "cells": [
  {
   "cell_type": "code",
   "execution_count": 3,
   "id": "446df6e4",
   "metadata": {},
   "outputs": [
    {
     "data": {
      "text/plain": [
       "True"
      ]
     },
     "execution_count": 3,
     "metadata": {},
     "output_type": "execute_result"
    }
   ],
   "source": [
    "from transformers import AutoModelForCausalLM, AutoTokenizer, BitsAndBytesConfig\n",
    "import os\n",
    "from dotenv import load_dotenv\n",
    "load_dotenv()"
   ]
  },
  {
   "cell_type": "code",
   "execution_count": 7,
   "id": "57bf0d00",
   "metadata": {},
   "outputs": [],
   "source": [
    "model_path = os.getenv('MODEL_PATH') + \"/mistral-7b\"\n",
    "\n",
    "bnb_config = BitsAndBytesConfig(\n",
    "    load_in_4bit=True,\n",
    "    bnb_4bit_use_double_quant=True,\n",
    "    bnb_4bit_quant_type=\"nf4\",\n",
    "    bnb_4bit_compute_dtype=\"float16\"\n",
    ")"
   ]
  },
  {
   "cell_type": "code",
   "execution_count": 8,
   "id": "bda0ece8",
   "metadata": {},
   "outputs": [
    {
     "name": "stderr",
     "output_type": "stream",
     "text": [
      "Loading checkpoint shards: 100%|██████████| 2/2 [02:20<00:00, 70.49s/it] \n"
     ]
    }
   ],
   "source": [
    "model = AutoModelForCausalLM.from_pretrained(\n",
    "    model_path,\n",
    "    quantization_config=bnb_config,\n",
    "    device_map=\"auto\"    \n",
    "    )"
   ]
  },
  {
   "cell_type": "code",
   "execution_count": 9,
   "id": "29f297bf",
   "metadata": {},
   "outputs": [],
   "source": [
    "\n",
    "tokenizer = AutoTokenizer.from_pretrained(model_path)"
   ]
  },
  {
   "cell_type": "code",
   "execution_count": 10,
   "id": "3d27ec66",
   "metadata": {},
   "outputs": [
    {
     "name": "stderr",
     "output_type": "stream",
     "text": [
      "Setting `pad_token_id` to `eos_token_id`:2 for open-end generation.\n"
     ]
    },
    {
     "name": "stdout",
     "output_type": "stream",
     "text": [
      "What is the name of amazing spider man?\n",
      "\n",
      "The Amazing Spider-Man is a 2012 American superhero film based on the Marvel Comics character Spider-Man, and the second film in the Spider-Man film series. It was directed by\n"
     ]
    }
   ],
   "source": [
    "prompt = \"What is the name of amazing spider man\"\n",
    "inputs = tokenizer(prompt, return_tensors=\"pt\").to(model.device)\n",
    "outputs = model.generate(**inputs, max_new_tokens=50)\n",
    "print(tokenizer.decode(outputs[0], skip_special_tokens=True))"
   ]
  },
  {
   "cell_type": "code",
   "execution_count": 11,
   "id": "3aa10243",
   "metadata": {},
   "outputs": [],
   "source": [
    "model_quant = os.getenv('MODEL_PATH_QUANT') + \"/mistral-7b-4bit\"\n",
    "\n",
    "model.save_pretrained(model_quant)"
   ]
  },
  {
   "cell_type": "code",
   "execution_count": 12,
   "id": "9260b752",
   "metadata": {},
   "outputs": [
    {
     "data": {
      "text/plain": [
       "('/media/scientist-anand/volume/mr_document/all_models/quantized-models/mistral-7b-4bit/tokenizer_config.json',\n",
       " '/media/scientist-anand/volume/mr_document/all_models/quantized-models/mistral-7b-4bit/special_tokens_map.json',\n",
       " '/media/scientist-anand/volume/mr_document/all_models/quantized-models/mistral-7b-4bit/tokenizer.json')"
      ]
     },
     "execution_count": 12,
     "metadata": {},
     "output_type": "execute_result"
    }
   ],
   "source": [
    "tokenizer.save_pretrained(model_quant)"
   ]
  },
  {
   "cell_type": "code",
   "execution_count": null,
   "id": "2e906781",
   "metadata": {},
   "outputs": [],
   "source": []
  }
 ],
 "metadata": {
  "kernelspec": {
   "display_name": "train_venv",
   "language": "python",
   "name": "train_venv"
  },
  "language_info": {
   "codemirror_mode": {
    "name": "ipython",
    "version": 3
   },
   "file_extension": ".py",
   "mimetype": "text/x-python",
   "name": "python",
   "nbconvert_exporter": "python",
   "pygments_lexer": "ipython3",
   "version": "3.10.18"
  }
 },
 "nbformat": 4,
 "nbformat_minor": 5
}
