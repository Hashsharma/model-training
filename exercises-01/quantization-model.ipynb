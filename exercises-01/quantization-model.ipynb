{
 "cells": [
  {
   "cell_type": "code",
   "execution_count": 1,
   "id": "446df6e4",
   "metadata": {},
   "outputs": [
    {
     "name": "stderr",
     "output_type": "stream",
     "text": [
      "/media/scientist-anand/volume/mr_document/linux_venv/train_venv/lib/python3.10/site-packages/tqdm/auto.py:21: TqdmWarning: IProgress not found. Please update jupyter and ipywidgets. See https://ipywidgets.readthedocs.io/en/stable/user_install.html\n",
      "  from .autonotebook import tqdm as notebook_tqdm\n"
     ]
    },
    {
     "data": {
      "text/plain": [
       "True"
      ]
     },
     "execution_count": 1,
     "metadata": {},
     "output_type": "execute_result"
    }
   ],
   "source": [
    "from transformers import AutoModelForCausalLM, AutoTokenizer, BitsAndBytesConfig\n",
    "import os\n",
    "from dotenv import load_dotenv\n",
    "load_dotenv()"
   ]
  },
  {
   "cell_type": "code",
   "execution_count": 2,
   "id": "57bf0d00",
   "metadata": {},
   "outputs": [],
   "source": [
    "model_path = os.getenv('MODEL_PATH') + \"/Llama-3.2-1B-Instruct\"\n",
    "\n",
    "bnb_config = BitsAndBytesConfig(\n",
    "    load_in_4bit=True,\n",
    "    bnb_4bit_use_double_quant=True,\n",
    "    bnb_4bit_quant_type=\"nf4\",\n",
    "    bnb_4bit_compute_dtype=\"float16\"\n",
    ")"
   ]
  },
  {
   "cell_type": "code",
   "execution_count": 3,
   "id": "bda0ece8",
   "metadata": {},
   "outputs": [],
   "source": [
    "model = AutoModelForCausalLM.from_pretrained(\n",
    "    model_path,\n",
    "    quantization_config=bnb_config,\n",
    "    device_map=\"auto\"    \n",
    "    )"
   ]
  },
  {
   "cell_type": "code",
   "execution_count": 4,
   "id": "29f297bf",
   "metadata": {},
   "outputs": [],
   "source": [
    "\n",
    "tokenizer = AutoTokenizer.from_pretrained(model_path)"
   ]
  },
  {
   "cell_type": "code",
   "execution_count": 7,
   "id": "3d27ec66",
   "metadata": {},
   "outputs": [
    {
     "name": "stderr",
     "output_type": "stream",
     "text": [
      "Setting `pad_token_id` to `eos_token_id`:128001 for open-end generation.\n"
     ]
    },
    {
     "name": "stdout",
     "output_type": "stream",
     "text": [
      " can you rephrase for human resource can understand this\n",
      "\n",
      "context:\n",
      "JobTitle: Senior Software Development Engineer at MResult Technologies Pvt Ltd (Oct 2024 – Present, Bengaluru, India) | Responsibility: Empowered businesses with data, analytics, digital, and AI solutions for actionable insights. Implemented YOLO-based object detection to improve checkout efficiency, reducing scanning errors by 30% and speeding up transactions by 20%. Trained a custom YOLO model on retail product datasets, achieving 98% accuracy in identifying barcode-less items in real-time.\n",
      "JobTitle: Software Engineer at Ful.io (Dec 2022 – Mar 2024, Bengaluru, India) | Responsibility: Developed advanced AI-driven NLU and NLG components using large language models (LLMs) to power smart conversational bots. Deployed Django applications and PostgreSQL databases on AWS using CLI tools for end-to-end bot solutions. Customized chatbot behavior based on client-specific product and website data within the IVR SmartAssist system.\n",
      "JobTitle: Software Engineer at UBQ Technologies Pvt. Ltd. (Sep 2021 – Nov 2022, Bengaluru, India) | Responsibility: Developed and maintained features for Product Medics, a cloud-based healthcare platform. Integrated AI-generated health information to streamline healthcare service delivery and improve platform intelligence. Collaborated with cross-functional teams to enhance platform usability and system integration across the healthcare ecosystem.\n",
      "\n",
      "The job titles have been provided for reference, but the actual job descriptions may vary based on the company, role, and location.\n",
      "\n",
      "**Key Skills:**\n",
      "\n",
      "1. Programming languages: Python, Java, C++\n",
      "2. Data Science and Machine Learning:\n"
     ]
    }
   ],
   "source": [
    "prompt = ''' can you rephrase for human resource can understand this\n",
    "\n",
    "context:\n",
    "JobTitle: Senior Software Development Engineer at MResult Technologies Pvt Ltd (Oct 2024 – Present, Bengaluru, India) | Responsibility: Empowered businesses with data, analytics, digital, and AI solutions for actionable insights. Implemented YOLO-based object detection to improve checkout efficiency, reducing scanning errors by 30% and speeding up transactions by 20%. Trained a custom YOLO model on retail product datasets, achieving 98% accuracy in identifying barcode-less items in real-time.\\nJobTitle: Software Engineer at Ful.io (Dec 2022 – Mar 2024, Bengaluru, India) | Responsibility: Developed advanced AI-driven NLU and NLG components using large language models (LLMs) to power smart conversational bots. Deployed Django applications and PostgreSQL databases on AWS using CLI tools for end-to-end bot solutions. Customized chatbot behavior based on client-specific product and website data within the IVR SmartAssist system.\\nJobTitle: Software Engineer at UBQ Technologies Pvt. Ltd. (Sep 2021 – Nov 2022, Bengaluru, India) | Responsibility: Developed and maintained features for Product Medics, a cloud-based healthcare platform. Integrated AI-generated health information to streamline healthcare service delivery and improve platform intelligence. Collaborated with cross-functional teams to enhance platform usability and system integration across the healthcare ecosystem.\n",
    "\n",
    "'''\n",
    "inputs = tokenizer(prompt, return_tensors=\"pt\").to(model.device)\n",
    "outputs = model.generate(**inputs, max_new_tokens=50)\n",
    "print(tokenizer.decode(outputs[0], skip_special_tokens=True))"
   ]
  },
  {
   "cell_type": "code",
   "execution_count": 8,
   "id": "3aa10243",
   "metadata": {},
   "outputs": [],
   "source": [
    "model_quant = os.getenv('MODEL_PATH_QUANT') + \"/Llama-3.2-1B-Instruct-4bit\"\n",
    "\n",
    "model.save_pretrained(model_quant)"
   ]
  },
  {
   "cell_type": "code",
   "execution_count": 9,
   "id": "9260b752",
   "metadata": {},
   "outputs": [
    {
     "data": {
      "text/plain": [
       "('/media/scientist-anand/volume/mr_document/all_models/quantized-models/Llama-3.2-1B-Instruct-4bit/tokenizer_config.json',\n",
       " '/media/scientist-anand/volume/mr_document/all_models/quantized-models/Llama-3.2-1B-Instruct-4bit/special_tokens_map.json',\n",
       " '/media/scientist-anand/volume/mr_document/all_models/quantized-models/Llama-3.2-1B-Instruct-4bit/chat_template.jinja',\n",
       " '/media/scientist-anand/volume/mr_document/all_models/quantized-models/Llama-3.2-1B-Instruct-4bit/tokenizer.json')"
      ]
     },
     "execution_count": 9,
     "metadata": {},
     "output_type": "execute_result"
    }
   ],
   "source": [
    "tokenizer.save_pretrained(model_quant)"
   ]
  },
  {
   "cell_type": "code",
   "execution_count": null,
   "id": "2e906781",
   "metadata": {},
   "outputs": [],
   "source": []
  }
 ],
 "metadata": {
  "kernelspec": {
   "display_name": "train_venv",
   "language": "python",
   "name": "train_venv"
  },
  "language_info": {
   "codemirror_mode": {
    "name": "ipython",
    "version": 3
   },
   "file_extension": ".py",
   "mimetype": "text/x-python",
   "name": "python",
   "nbconvert_exporter": "python",
   "pygments_lexer": "ipython3",
   "version": "3.10.18"
  }
 },
 "nbformat": 4,
 "nbformat_minor": 5
}
